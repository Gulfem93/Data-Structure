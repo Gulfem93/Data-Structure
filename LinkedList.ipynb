{
 "cells": [
  {
   "cell_type": "code",
   "execution_count": 52,
   "metadata": {},
   "outputs": [],
   "source": [
    "import math\n",
    "import os\n",
    "import random\n",
    "import re\n",
    "import sys"
   ]
  },
  {
   "cell_type": "code",
   "execution_count": 53,
   "metadata": {},
   "outputs": [],
   "source": [
    "class SinglyLinkedListNode:\n",
    "    def __init__(self, node_data):\n",
    "        self.node = node_data\n",
    "        self.next = None"
   ]
  },
  {
   "cell_type": "code",
   "execution_count": 54,
   "metadata": {},
   "outputs": [],
   "source": [
    "class SinglyLinkedList:\n",
    "    def __init__(self):\n",
    "        self.head = None\n",
    "        self.tail = None"
   ]
  },
  {
   "cell_type": "markdown",
   "metadata": {},
   "source": [
    "###### Insert a Node at the Tail of a Linked List\n",
    "1 -> 2 -> 3 -> 4\n",
    "\n",
    "sonuc => 1 -> 2 -> 3 -> 4"
   ]
  },
  {
   "cell_type": "code",
   "execution_count": 55,
   "metadata": {},
   "outputs": [],
   "source": [
    "def LinkedListİnsert(head, data):\n",
    "    if head is None:\n",
    "        return SinglyLinkedListNode(data)\n",
    "    pnt = head\n",
    "    while pnt.next:\n",
    "        pnt = pnt.next\n",
    "    pnt.next = SinglyLinkedListNode(data)\n",
    "    return head"
   ]
  },
  {
   "cell_type": "markdown",
   "metadata": {},
   "source": [
    "###### Print the Elements of a Linked List\n",
    "1 -> 2 -> 3 -> 4\n",
    "\n",
    "sonuc => 1 -> 2 -> 3 -> 4"
   ]
  },
  {
   "cell_type": "code",
   "execution_count": 56,
   "metadata": {},
   "outputs": [],
   "source": [
    "def printLinkedList(head):\n",
    "    if head is not None:\n",
    "        print(head.node)\n",
    "        printLinkedList(head.next)"
   ]
  },
  {
   "cell_type": "markdown",
   "metadata": {},
   "source": [
    "######  Insert a node at the head of a linked list\n",
    "1 -> 2 -> 3 -> 4\n",
    "\n",
    "sonuc => 4 -> 3 -> 2 -> 1"
   ]
  },
  {
   "cell_type": "code",
   "execution_count": null,
   "metadata": {},
   "outputs": [],
   "source": [
    "def insertNodeAtHead(head, data):\n",
    "    if head is None:\n",
    "        return SinglyLinkedListNode(data)\n",
    "    if head is not None:\n",
    "        x = SinglyLinkedListNode(data)\n",
    "        if x == None:\n",
    "            head = x\n",
    "        else:\n",
    "            new_node = x\n",
    "            new_node.next = head\n",
    "            head = new_node\n",
    "    return head            \n",
    "    "
   ]
  },
  {
   "cell_type": "markdown",
   "metadata": {},
   "source": [
    "###### Insert a node at a specific position in a linked list\n",
    "1 -> 2 -> 3\n",
    "\n",
    "data = 4\n",
    "\n",
    "position = 2\n",
    "\n",
    "Sonuc =>   1 -> 2 -> 4 -> 3"
   ]
  },
  {
   "cell_type": "code",
   "execution_count": null,
   "metadata": {},
   "outputs": [],
   "source": []
  },
  {
   "cell_type": "markdown",
   "metadata": {},
   "source": [
    "###### Delete Node\n",
    "1 -> 2 -> 3 -> 4\n",
    "\n",
    "position = 2\n",
    "\n",
    "sonuc => 1 -> 2 ->  4"
   ]
  },
  {
   "cell_type": "code",
   "execution_count": 108,
   "metadata": {},
   "outputs": [],
   "source": [
    "def DeleteNode(head, n):\n",
    "    current = head\n",
    "    if n == 0:\n",
    "        head = head.next\n",
    "    else:\n",
    "        for i in range(n-1):\n",
    "            current = current.next\n",
    "        current.next = current.next.next\n",
    "    return head"
   ]
  },
  {
   "cell_type": "code",
   "execution_count": 107,
   "metadata": {},
   "outputs": [
    {
     "name": "stdout",
     "output_type": "stream",
     "text": [
      "position data: 2\n",
      "Position: 3\n",
      "Delete position: 4\n",
      "9\n",
      "8\n",
      "7\n",
      "6\n",
      "5\n",
      "------------------------------------------------\n",
      "Print the Elements of a Linked List\n",
      "9\n",
      "8\n",
      "7\n",
      "6\n",
      "------------------------------------------------\n",
      "Insert a node at the head of a linked list\n",
      "5\n",
      "6\n",
      "7\n",
      "8\n",
      "9\n",
      "------------------------------------------------\n",
      "Insert a node at a specific position in a linked list\n",
      "9\n",
      "8\n",
      "7\n",
      "2\n",
      "6\n",
      "5\n",
      "------------------------------------------------\n",
      "Delete in a linked list\n",
      "9\n",
      "8\n",
      "7\n",
      "6\n"
     ]
    }
   ],
   "source": [
    "Node = SinglyLinkedList()\n",
    "Node_head = SinglyLinkedList()\n",
    "Node_Specific = SinglyLinkedList()\n",
    "Node_Delete = SinglyLinkedList()\n",
    "\n",
    "position_data = int(input(\"position data: \"))\n",
    "Position = int(input(\"Position: \"))\n",
    "delete_position = int(input(\"Delete position: \"))\n",
    "\n",
    "for i in range(1, 6):\n",
    "    data = int(input())\n",
    "    \n",
    "    #Insert a Node at the Tail of a Linked List\n",
    "    l_insert = LinkedListİnsert(Node.head, data)\n",
    "    Node.head = l_insert\n",
    "    \n",
    "    #Insert a node at the head of a linked list\n",
    "    Headinsert = insertNodeAtHead(Node_head.head, data)\n",
    "    Node_head.head  = Headinsert\n",
    "    \n",
    "    #Insert a node at a specific position in a linked list\n",
    "    Specific_Insert = LinkedListİnsert(Node_Specific.head, data)\n",
    "    Node_Specific.head = Specific_Insert\n",
    "    if Position == i:\n",
    "        Node_Specific = LinkedListİnsert(Node_Specific.head, position_data)\n",
    "        Node_Specific.head = Specific_Insert\n",
    "    \n",
    "###########Delete işlemini sonra yap   \n",
    "Delete_Node = DeleteNode(Node.head, delete_position)\n",
    "Node_Delete.head = Delete_Node\n",
    "        \n",
    "           \n",
    "# Print the Elements of a Linked List  \n",
    "print(\"------------------------------------------------\")\n",
    "print(\"Print the Elements of a Linked List\")\n",
    "printLinkedList(Node.head)\n",
    "print(\"------------------------------------------------\")\n",
    "print(\"Insert a node at the head of a linked list\")\n",
    "printLinkedList(Node_head.head)\n",
    "print(\"------------------------------------------------\")\n",
    "print(\"Insert a node at a specific position in a linked list\")\n",
    "printLinkedList(Node_Specific.head)\n",
    "print(\"------------------------------------------------\")\n",
    "print(\"Delete in a linked list\")\n",
    "printLinkedList(Node_Delete.head)"
   ]
  },
  {
   "cell_type": "code",
   "execution_count": null,
   "metadata": {},
   "outputs": [],
   "source": []
  },
  {
   "cell_type": "code",
   "execution_count": null,
   "metadata": {},
   "outputs": [],
   "source": []
  }
 ],
 "metadata": {
  "kernelspec": {
   "display_name": "Python 3",
   "language": "python",
   "name": "python3"
  },
  "language_info": {
   "codemirror_mode": {
    "name": "ipython",
    "version": 3
   },
   "file_extension": ".py",
   "mimetype": "text/x-python",
   "name": "python",
   "nbconvert_exporter": "python",
   "pygments_lexer": "ipython3",
   "version": "3.8.5"
  }
 },
 "nbformat": 4,
 "nbformat_minor": 4
}
